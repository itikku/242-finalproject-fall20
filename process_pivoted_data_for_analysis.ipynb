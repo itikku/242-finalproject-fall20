{
 "cells": [
  {
   "cell_type": "markdown",
   "metadata": {},
   "source": [
    "### Notes on the data\n",
    "\n",
    "- There are 6598 rows (approximately 20% of total number of records) that contain a value for \"ENERGY STAR Score\"\n",
    "- Relatively uniform distribution of records from 2013 - 2019. Smaller # of records for 2011 and 2012\n",
    "- The columns \"Percent Better than National Median Site EUI\" and \"Percent Better than National Median Source EUI\" are redundant\n",
    "- We should think about reconstructing the \"Total GHG Emissions Intensity\" column --> there are missing data points, and others seem to be miscalculated\n",
    "- **What's the difference between Site and Source EUI?? Here's a helpful link: https://www.energystar.gov/buildings/facility-owners-and-managers/existing-buildings/use-portfolio-manager/understand-metrics/difference**. \n",
    "- Main takeaway from the above: we should use \"source EUI\". But we can try generating different models with either one, or both"
   ]
  },
  {
   "cell_type": "code",
   "execution_count": null,
   "metadata": {},
   "outputs": [],
   "source": [
    "import pandas as pd\n",
    "import numpy as np"
   ]
  },
  {
   "cell_type": "code",
   "execution_count": null,
   "metadata": {},
   "outputs": [],
   "source": [
    "data = pd.read_csv('energy_building_data_retabulated.csv')\n",
    "pd.set_option('display.max_columns', None)\n",
    "pd.set_option('display.max_rows', None)\n",
    "\n",
    "#Create a separate dataframe that only contains values where ENERGY STAR score is not null\n",
    "data_not_null = data[~data[\"ENERGY STAR Score\"].isnull()]\n",
    "\n",
    "#dimension of the dataframe\n",
    "data_not_null.shape\n",
    "\n",
    "#count the number of records per year\n",
    "data_not_null[[\"year\", \"ENERGY STAR Score\"]].groupby(['year']).count()\n",
    "\n",
    "# Count the number of null records per column\n",
    "data_not_null.isna().sum()\n",
    "\n",
    "#Feature Engineering\n",
    "data_not_null[\"Previous Year ENERGY STAR Score\"] = data_not_null.groupby([\"Parcel(s)\"])[\"ENERGY STAR Score\"].shift()\n",
    "data_not_null[\"Two Years Ago ENERGY STAR Score\"] = data_not_null.groupby([\"Parcel(s)\"])[\"ENERGY STAR Score\"].shift(2)\n",
    "data_not_null[\"Current Year YoY Change\"] = data_not_null[\"ENERGY STAR Score\"] - data_not_null[\"Previous Year ENERGY STAR Score\"]\n",
    "data_not_null[\"Previous Year YoY Change\"] = data_not_null[\"Previous Year ENERGY STAR Score\"] - data_not_null[\"Two Years Ago ENERGY STAR Score\"]\n",
    "data_not_null[\"Age In Years\"] = data_not_null.apply(lambda row: row[\"year\"] - row[\"Year Built\"], axis=1)\n",
    "data_not_null[\"Recalculated GHG Emissions Intensity (kgCO2e/ft2)\"] = data_not_null.apply(lambda row: row[\"Total GHG Emissions (Metric Tons CO2e)\"] * 1000 / row[\"Floor Area\"], axis=1)\n",
    "data_not_null[\"Is Downtown\"] = data_not_null.apply(lambda row: True if row[\"Postal Code\"] in [94103, 94104, 94105, 94107, 94108] else False, axis=1)\n",
    "\n",
    "data_not_null_dropped = data_not_null.drop(columns=[\"Total GHG Emissions Intensity (kgCO2e/ft2)\", \"Benchmark Status\", \n",
    "                            \"Reason for Exemption\", \"PIM Link\"]);\n",
    "data_not_null.to_csv(\"building_energy_data_final.csv\")"
   ]
  }
 ],
 "metadata": {
  "kernelspec": {
   "display_name": "Python 3",
   "language": "python",
   "name": "python3"
  },
  "language_info": {
   "codemirror_mode": {
    "name": "ipython",
    "version": 3
   },
   "file_extension": ".py",
   "mimetype": "text/x-python",
   "name": "python",
   "nbconvert_exporter": "python",
   "pygments_lexer": "ipython3",
   "version": "3.7.6"
  }
 },
 "nbformat": 4,
 "nbformat_minor": 4
}
